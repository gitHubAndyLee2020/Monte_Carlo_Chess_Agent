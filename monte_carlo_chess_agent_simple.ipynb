{
  "nbformat": 4,
  "nbformat_minor": 0,
  "metadata": {
    "colab": {
      "provenance": [],
      "machine_shape": "hm",
      "gpuType": "T4",
      "authorship_tag": "ABX9TyOsg0wVhPTjLqqJpj1j/Djl",
      "include_colab_link": true
    },
    "kernelspec": {
      "name": "python3",
      "display_name": "Python 3"
    },
    "language_info": {
      "name": "python"
    },
    "accelerator": "GPU"
  },
  "cells": [
    {
      "cell_type": "markdown",
      "metadata": {
        "id": "view-in-github",
        "colab_type": "text"
      },
      "source": [
        "<a href=\"https://colab.research.google.com/github/gitHubAndyLee2020/Monte_Carlo_Chess_Agent/blob/main/monte_carlo_chess_agent_simple.ipynb\" target=\"_parent\"><img src=\"https://colab.research.google.com/assets/colab-badge.svg\" alt=\"Open In Colab\"/></a>"
      ]
    },
    {
      "cell_type": "markdown",
      "source": [
        "### Chess Agent using Monte Carlo Search Tree Algorithm"
      ],
      "metadata": {
        "id": "hzrdyIACiDuM"
      }
    },
    {
      "cell_type": "code",
      "source": [
        "!pip install chess"
      ],
      "metadata": {
        "colab": {
          "base_uri": "https://localhost:8080/"
        },
        "id": "nmBc2TgwiSWi",
        "outputId": "f493002f-73ec-47c7-b8e9-2425214ac16f"
      },
      "execution_count": 3,
      "outputs": [
        {
          "output_type": "stream",
          "name": "stdout",
          "text": [
            "Collecting chess\n",
            "  Downloading chess-1.10.0-py3-none-any.whl (154 kB)\n",
            "\u001b[?25l     \u001b[90m━━━━━━━━━━━━━━━━━━━━━━━━━━━━━━━━━━━━━━━━\u001b[0m \u001b[32m0.0/154.4 kB\u001b[0m \u001b[31m?\u001b[0m eta \u001b[36m-:--:--\u001b[0m\r\u001b[2K     \u001b[91m━━━━━━━━━━━━━━━━━━━━━━━━━━━━━━━\u001b[0m\u001b[90m╺\u001b[0m\u001b[90m━━━━━━━\u001b[0m \u001b[32m122.9/154.4 kB\u001b[0m \u001b[31m3.5 MB/s\u001b[0m eta \u001b[36m0:00:01\u001b[0m\r\u001b[2K     \u001b[90m━━━━━━━━━━━━━━━━━━━━━━━━━━━━━━━━━━━━━━━\u001b[0m \u001b[32m154.4/154.4 kB\u001b[0m \u001b[31m3.3 MB/s\u001b[0m eta \u001b[36m0:00:00\u001b[0m\n",
            "\u001b[?25hInstalling collected packages: chess\n",
            "Successfully installed chess-1.10.0\n"
          ]
        }
      ]
    },
    {
      "cell_type": "code",
      "source": [
        "import chess\n",
        "import chess.pgn\n",
        "import chess.engine\n",
        "import random\n",
        "import time\n",
        "from math import log, sqrt, e, inf"
      ],
      "metadata": {
        "id": "AVDZ8fOjiLJQ"
      },
      "execution_count": 4,
      "outputs": []
    },
    {
      "cell_type": "code",
      "source": [
        "class node():\n",
        "  def __init__(self):\n",
        "    self.state = chess.Board()\n",
        "    self.action = ''\n",
        "    self.children = set()\n",
        "    self.parent = None\n",
        "    self.N = 0\n",
        "    self.n = 0\n",
        "    self.v = 0"
      ],
      "metadata": {
        "id": "mDdLEJ4fipXp"
      },
      "execution_count": 5,
      "outputs": []
    },
    {
      "cell_type": "code",
      "source": [
        "# Determines how valuate a node is to be explored\n",
        "def ucb1(curr_node):\n",
        "    ans = curr_node.v+2*(sqrt(log(curr_node.N+e+(10**-6))/(curr_node.n+(10**-10))))\n",
        "    return ans"
      ],
      "metadata": {
        "id": "VTv6Y5I4jGjE"
      },
      "execution_count": 21,
      "outputs": []
    },
    {
      "cell_type": "code",
      "source": [
        "# Handles leaf node case, make random moves until the game is over\n",
        "def rollout(curr_node):\n",
        "  # Return reward value if the game is over\n",
        "  if (curr_node.state.is_game_over()):\n",
        "    board = curr_node.state\n",
        "    if (board.result() == '1-0'):\n",
        "      print(\"h1\")\n",
        "      return (1, curr_node)\n",
        "    elif (board.result() == '0-1'):\n",
        "      print(\"h2\")\n",
        "      return (-1, curr_node)\n",
        "    else:\n",
        "      return (0.5, curr_node)\n",
        "\n",
        "  # If the game is not over, get list of all possible moves\n",
        "  all_moves = [curr_node.state.san(i) for i in list(curr_node.state.legal_moves)]\n",
        "\n",
        "  # Get child node for each possible move\n",
        "  for i in all_moves:\n",
        "    tmp_state = chess.Board(curr_node.state.fen())\n",
        "    tmp_state.push_san(i)\n",
        "    child = node()\n",
        "    child.state = tmp_state\n",
        "    child.parent = curr_node\n",
        "    curr_node.children.add(child)\n",
        "\n",
        "  # Get a random move\n",
        "  rnd_state = random.choice(list(curr_node.children))\n",
        "\n",
        "  return rollout(rnd_state)"
      ],
      "metadata": {
        "id": "eKE1p4v7kqO4"
      },
      "execution_count": 19,
      "outputs": []
    },
    {
      "cell_type": "code",
      "source": [
        "# Select the most promising child node\n",
        "def expand(curr_node, white):\n",
        "  if (len(curr_node.children) == 0):\n",
        "    return curr_node\n",
        "  max_ucb = -inf\n",
        "  if (white):\n",
        "    idx = -1\n",
        "    max_ucb = -inf\n",
        "    sel_child = None\n",
        "    for i in curr_node.children:\n",
        "      tmp = ucb1(i)\n",
        "      if (tmp > max_ucb):\n",
        "        idx = i\n",
        "        max_ucb = tmp\n",
        "        sel_child = i\n",
        "\n",
        "    return expand(sel_child, 0)\n",
        "\n",
        "  else:\n",
        "    idx = -1\n",
        "    min_ucb = inf\n",
        "    sel_child = None\n",
        "    for i in curr_node.children:\n",
        "      tmp = ucb1(i)\n",
        "      if (tmp < min_ucb):\n",
        "        idx = i\n",
        "        min_ucb = tmp\n",
        "        sel_child = i\n",
        "\n",
        "    return expand(sel_child, 1)"
      ],
      "metadata": {
        "id": "iO6y0dgAm9gB"
      },
      "execution_count": 12,
      "outputs": []
    },
    {
      "cell_type": "code",
      "source": [
        "def rollback(curr_node, reward):\n",
        "  curr_node.n += 1\n",
        "  curr_node.v += reward\n",
        "  while (curr_node.parent != None):\n",
        "    curr_node.N += 1\n",
        "    curr_node = curr_node.parent\n",
        "  return curr_node"
      ],
      "metadata": {
        "id": "yQTnko43pn1y"
      },
      "execution_count": 11,
      "outputs": []
    },
    {
      "cell_type": "code",
      "source": [
        "def mcts_pred(curr_node, over, white, iterations=10):\n",
        "  if (over):\n",
        "    return -1\n",
        "\n",
        "  all_moves = [curr_node.state.san(i) for i in list(curr_node.state.legal_moves)]\n",
        "  map_state_move = dict()\n",
        "\n",
        "  for i in all_moves:\n",
        "    tmp_state = chess.Board(curr_node.state.fen())\n",
        "    tmp_state.push_san(i)\n",
        "    child = node()\n",
        "    child.state = tmp_state\n",
        "    child.parent = curr_node\n",
        "    curr_node.children.add(child)\n",
        "    map_state_move[child] = i\n",
        "\n",
        "  # Expands the tree\n",
        "  while (iterations > 0):\n",
        "    if (white):\n",
        "      idx = -1\n",
        "      max_ucb = -inf\n",
        "      sel_child = None\n",
        "      # Select best child node\n",
        "      for i in curr_node.children:\n",
        "        tmp = ucb1(i)\n",
        "        if (tmp > max_ucb):\n",
        "          idx = i\n",
        "          max_ucb = tmp\n",
        "          sel_child = i\n",
        "      # Go down the tree until leaf node and play until the end of the game\n",
        "      ex_child = expand(sel_child, 0)\n",
        "      reward, state = rollout(ex_child)\n",
        "      curr_node = rollback(state, reward)\n",
        "      iterations -= 1\n",
        "\n",
        "    else:\n",
        "      idx = -1\n",
        "      min_ucb = inf\n",
        "      sel_child = None\n",
        "      for i in curr_node.children:\n",
        "        tmp = ucb1(i)\n",
        "        if (tmp < min_ucb):\n",
        "          idx = i\n",
        "          min_ucb = tmp\n",
        "          sel_child = i\n",
        "\n",
        "      ex_child = expand(sel_child, 1)\n",
        "      reward, state = rollout(ex_child)\n",
        "      curr_node = rollback(state, reward)\n",
        "      iterations -= 1\n",
        "\n",
        "  # Selects the most promising child for the next move\n",
        "  if (white):\n",
        "    mx = -inf\n",
        "    idx = -1\n",
        "    selected_move = ''\n",
        "    for i in (curr_node.children):\n",
        "      tmp = ucb1(i)\n",
        "      if (tmp > mx):\n",
        "        mx = tmp\n",
        "        selected_move = map_state_move[i]\n",
        "    return selected_move\n",
        "\n",
        "  else:\n",
        "    mn = inf\n",
        "    idx = -1\n",
        "    selected_move = ''\n",
        "    for i in (curr_node.children):\n",
        "      tmp = ucb1(i)\n",
        "      if (tmp < mn):\n",
        "        mn = tmp\n",
        "        selected_move = map_state_move[i]\n",
        "    return selected_move"
      ],
      "metadata": {
        "id": "nYOn2uXcrlH8"
      },
      "execution_count": 18,
      "outputs": []
    },
    {
      "cell_type": "code",
      "source": [
        "!apt-get install -y stockfish"
      ],
      "metadata": {
        "colab": {
          "base_uri": "https://localhost:8080/"
        },
        "id": "courZJ3pxag9",
        "outputId": "f9cfe84e-6140-49de-9d9d-7cd086a3bc6a"
      },
      "execution_count": 15,
      "outputs": [
        {
          "output_type": "stream",
          "name": "stdout",
          "text": [
            "Reading package lists... Done\n",
            "Building dependency tree... Done\n",
            "Reading state information... Done\n",
            "Suggested packages:\n",
            "  polyglot xboard | scid\n",
            "The following NEW packages will be installed:\n",
            "  stockfish\n",
            "0 upgraded, 1 newly installed, 0 to remove and 18 not upgraded.\n",
            "Need to get 24.8 MB of archives.\n",
            "After this operation, 47.4 MB of additional disk space will be used.\n",
            "Get:1 http://archive.ubuntu.com/ubuntu jammy/universe amd64 stockfish amd64 14.1-1 [24.8 MB]\n",
            "Fetched 24.8 MB in 1s (40.7 MB/s)\n",
            "Selecting previously unselected package stockfish.\n",
            "(Reading database ... 120895 files and directories currently installed.)\n",
            "Preparing to unpack .../stockfish_14.1-1_amd64.deb ...\n",
            "Unpacking stockfish (14.1-1) ...\n",
            "Setting up stockfish (14.1-1) ...\n",
            "Processing triggers for man-db (2.10.2-1) ...\n"
          ]
        }
      ]
    },
    {
      "cell_type": "code",
      "source": [
        "board = chess.Board()"
      ],
      "metadata": {
        "id": "rAutggxIxgNu"
      },
      "execution_count": 17,
      "outputs": []
    },
    {
      "cell_type": "code",
      "source": [
        "engine = chess.engine.SimpleEngine.popen_uci(\"/usr/games/stockfish\")"
      ],
      "metadata": {
        "id": "vgfttKeFxdbe"
      },
      "execution_count": 16,
      "outputs": []
    },
    {
      "cell_type": "code",
      "source": [
        "white = 1\n",
        "moves = 0\n",
        "pgn = []\n",
        "game = chess.pgn.Game()\n",
        "sm = 0\n",
        "cnt = 0\n",
        "while ((not board.is_game_over())):\n",
        "  all_moves = [board.san(i) for i in list(board.legal_moves)]\n",
        "  start = time.time()\n",
        "  root = node()\n",
        "  root.state = board\n",
        "  result = mcts_pred(root, board.is_game_over(), white)\n",
        "  sm += (time.time() - start)\n",
        "  board.push_san(result)\n",
        "  print(result)\n",
        "  pgn.append(result)\n",
        "  white ^= 1\n",
        "  cnt += 1\n",
        "  moves += 1\n",
        "\n",
        "print(board)\n",
        "print(\" \".join(pgn))\n",
        "print()\n",
        "print(board.result())\n",
        "game.headers[\"Result\"] = board.result()\n",
        "print(game)\n",
        "engine.quit()"
      ],
      "metadata": {
        "colab": {
          "base_uri": "https://localhost:8080/"
        },
        "id": "bh6Ml-wmxn-_",
        "outputId": "bace7911-3a81-4946-8d1a-1727195e8928"
      },
      "execution_count": 22,
      "outputs": [
        {
          "output_type": "stream",
          "name": "stdout",
          "text": [
            "h1\n",
            "h2\n",
            "c4\n",
            "h1\n",
            "h1\n",
            "Nf6\n",
            "a4\n",
            "h1\n",
            "h1\n",
            "h2\n",
            "Ng4\n",
            "h1\n",
            "h1\n",
            "h3\n",
            "h1\n",
            "h2\n",
            "d5\n",
            "h2\n",
            "h1\n",
            "h1\n",
            "h1\n",
            "hxg4\n",
            "b6\n",
            "Ra2\n",
            "h2\n",
            "h2\n",
            "Bb7\n",
            "h1\n",
            "h1\n",
            "Rh5\n",
            "h2\n",
            "e6\n",
            "h2\n",
            "h1\n",
            "h1\n",
            "Rxh7\n",
            "d4\n",
            "h1\n",
            "h1\n",
            "Qc2\n",
            "h2\n",
            "Ba3\n",
            "h2\n",
            "h2\n",
            "d3\n",
            "g5\n",
            "h1\n",
            "h2\n",
            "Nc3\n",
            "h1\n",
            "h2\n",
            "h1\n",
            "h1\n",
            "a6\n",
            "h1\n",
            "h1\n",
            "h1\n",
            "Qd2\n",
            "h1\n",
            "Ra7\n",
            "h2\n",
            "Qxg5\n",
            "h1\n",
            "dxc3\n",
            "h1\n",
            "h1\n",
            "Qe3\n",
            "h2\n",
            "h2\n",
            "h2\n",
            "Bxg2\n",
            "h1\n",
            "h1\n",
            "Qe5\n",
            "Be7\n",
            "h2\n",
            "f3\n",
            "h2\n",
            "Qd6\n",
            "h1\n",
            "Rh2\n",
            "Qd8\n",
            "Qxh8+\n",
            "h1\n",
            "Kd7\n",
            "h1\n",
            "h2\n",
            "h2\n",
            "h2\n",
            "Kd1\n",
            "h1\n",
            "h1\n",
            "Qxh8\n",
            "h1\n",
            "h1\n",
            "Bxg2\n",
            "Ke8\n",
            "h2\n",
            "e4\n",
            "h1\n",
            "h1\n",
            "Bd8\n",
            "c5\n",
            "h2\n",
            "Qh7\n",
            "h2\n",
            "h2\n",
            "Bg5\n",
            "h1\n",
            "h2\n",
            "a5\n",
            "cxb6\n",
            "h1\n",
            "h2\n",
            "f6\n",
            "h2\n",
            "Rh6\n",
            "h1\n",
            "e5\n",
            "h2\n",
            "h1\n",
            "Bh3\n",
            "h1\n",
            "h1\n",
            "Rb7\n",
            "h1\n",
            "h2\n",
            "Bh4\n",
            "h2\n",
            "c5\n",
            "h2\n",
            "h2\n",
            "h2\n",
            "Be1\n",
            "h2\n",
            "h2\n",
            "Na6\n",
            "h2\n",
            "Bd2\n",
            "h1\n",
            "Rc7\n",
            "h1\n",
            "h2\n",
            "bxc7\n",
            "h2\n",
            "h2\n",
            "Qh8\n",
            "Rxf6\n",
            "h1\n",
            "Qf8\n",
            "h1\n",
            "h1\n",
            "Be3\n",
            "h1\n",
            "h1\n",
            "h1\n",
            "Be7\n",
            "Rg6\n",
            "Nxc7\n",
            "h2\n",
            "h2\n",
            "h1\n",
            "Bg5\n",
            "h1\n",
            "h1\n",
            "h1\n",
            "Bxg5\n",
            "h1\n",
            "Ne2\n",
            "Qf4\n",
            "h2\n",
            "h1\n",
            "h2\n",
            "h2\n",
            "Ng1\n",
            "h2\n",
            "h2\n",
            "h2\n",
            "Qd2#\n",
            ". . . . k . . .\n",
            ". . n . . . . .\n",
            ". . . . . . R .\n",
            "p . p . p . b .\n",
            "P . . . P . P .\n",
            ". . p P . P . B\n",
            "R P . q . . . .\n",
            ". . . K . . N .\n",
            "c4 Nf6 a4 Ng4 h3 d5 hxg4 b6 Ra2 Bb7 Rh5 e6 Rxh7 d4 Qc2 Ba3 d3 g5 Nc3 a6 Qd2 Ra7 Qxg5 dxc3 Qe3 Bxg2 Qe5 Be7 f3 Qd6 Rh2 Qd8 Qxh8+ Kd7 Kd1 Qxh8 Bxg2 Ke8 e4 Bd8 c5 Qh7 Bg5 a5 cxb6 f6 Rh6 e5 Bh3 Rb7 Bh4 c5 Be1 Na6 Bd2 Rc7 bxc7 Qh8 Rxf6 Qf8 Be3 Be7 Rg6 Nxc7 Bg5 Bxg5 Ne2 Qf4 Ng1 Qd2#\n",
            "\n",
            "0-1\n",
            "[Event \"?\"]\n",
            "[Site \"?\"]\n",
            "[Date \"????.??.??\"]\n",
            "[Round \"?\"]\n",
            "[White \"?\"]\n",
            "[Black \"?\"]\n",
            "[Result \"0-1\"]\n",
            "\n",
            "0-1\n"
          ]
        }
      ]
    },
    {
      "cell_type": "code",
      "source": [
        "!pip install cairosvg"
      ],
      "metadata": {
        "colab": {
          "base_uri": "https://localhost:8080/"
        },
        "id": "xs4QouD-_7xv",
        "outputId": "7bd1ca4a-3555-4d31-af23-f14ff7abba90"
      },
      "execution_count": 32,
      "outputs": [
        {
          "output_type": "stream",
          "name": "stdout",
          "text": [
            "Requirement already satisfied: cairosvg in /usr/local/lib/python3.10/dist-packages (2.7.1)\n",
            "Requirement already satisfied: cairocffi in /usr/local/lib/python3.10/dist-packages (from cairosvg) (1.6.1)\n",
            "Requirement already satisfied: cssselect2 in /usr/local/lib/python3.10/dist-packages (from cairosvg) (0.7.0)\n",
            "Requirement already satisfied: defusedxml in /usr/local/lib/python3.10/dist-packages (from cairosvg) (0.7.1)\n",
            "Requirement already satisfied: pillow in /usr/local/lib/python3.10/dist-packages (from cairosvg) (9.4.0)\n",
            "Requirement already satisfied: tinycss2 in /usr/local/lib/python3.10/dist-packages (from cairosvg) (1.2.1)\n",
            "Requirement already satisfied: cffi>=1.1.0 in /usr/local/lib/python3.10/dist-packages (from cairocffi->cairosvg) (1.15.1)\n",
            "Requirement already satisfied: webencodings in /usr/local/lib/python3.10/dist-packages (from cssselect2->cairosvg) (0.5.1)\n",
            "Requirement already satisfied: pycparser in /usr/local/lib/python3.10/dist-packages (from cffi>=1.1.0->cairocffi->cairosvg) (2.21)\n"
          ]
        }
      ]
    }
  ]
}